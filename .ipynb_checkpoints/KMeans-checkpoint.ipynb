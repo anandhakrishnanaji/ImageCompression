{
 "cells": [
  {
   "cell_type": "code",
   "execution_count": 1,
   "id": "c25c097e",
   "metadata": {},
   "outputs": [],
   "source": [
    "%matplotlib inline \n",
    "import numpy as np\n",
    "import pandas as pd\n",
    "import random as rd\n",
    "from PIL import Image\n",
    "from matplotlib import pyplot as plt"
   ]
  },
  {
   "cell_type": "code",
   "execution_count": 2,
   "id": "d4c7aa0b",
   "metadata": {},
   "outputs": [],
   "source": [
    "def kmeansinit(X,k):\n",
    "    randperm=[i for i in range(X.shape[0])]\n",
    "    rd.shuffle(randperm)\n",
    "    return X[tuple(randperm[0:k]),:]\n",
    "    "
   ]
  },
  {
   "cell_type": "code",
   "execution_count": 3,
   "id": "83a17d07",
   "metadata": {},
   "outputs": [],
   "source": [
    "def findClosestCentroids(X,centroids):\n",
    "    idx=np.zeros(X.shape[0])\n",
    "    for i in range(X.shape[0]):\n",
    "        idx[0]=0\n",
    "        min=(X[i,:]-centroids[1,:]).dot((X[i,:]-centroids[1,:]).T)\n",
    "        for j in range(1,k):\n",
    "            m=(X[i,:]-centroids[j,:]).dot((X[i,:]-centroids[j,:]).T)\n",
    "            if m<min:\n",
    "                min=m\n",
    "                idx[i]=j\n",
    "    return idx"
   ]
  },
  {
   "cell_type": "code",
   "execution_count": 4,
   "id": "013a19d1",
   "metadata": {},
   "outputs": [],
   "source": [
    "def computeCentroids(X,idx,k):\n",
    "    m,n=X.shape\n",
    "    centroids=np.zeros((k,n))\n",
    "    for i in range(k):\n",
    "        c=0\n",
    "        centroids[i,:]=np.mean(X[idx==i],axis=0)\n",
    "    return centroids"
   ]
  },
  {
   "cell_type": "code",
   "execution_count": 5,
   "id": "49a54ba9",
   "metadata": {},
   "outputs": [],
   "source": [
    "def runkmeans(X,intitial_centroids,max_iters):\n",
    "    \n",
    "    m,n=X.shape\n",
    "    k=initial_centroids.shape[0]\n",
    "    centroids=initial_centroids\n",
    "    previous_centroids=centroids\n",
    "    idx=np.zeros(m)\n",
    "    \n",
    "    \n",
    "    for i in range(max_iters):\n",
    "        idx=findClosestCentroids(X,centroids)\n",
    "        centroids=computeCentroids(X,idx,k)\n",
    "        print(centroids)\n",
    "        break\n",
    "    return centroids,idx\n",
    "        "
   ]
  },
  {
   "cell_type": "code",
   "execution_count": 6,
   "id": "78deec11",
   "metadata": {},
   "outputs": [
    {
     "name": "stdout",
     "output_type": "stream",
     "text": [
      "PNG\n",
      "(128, 128)\n",
      "RGB\n"
     ]
    }
   ],
   "source": [
    "img=Image.open('bird_small.png')\n",
    "\n",
    "print(img.format)\n",
    "print(img.size)\n",
    "print(img.mode)"
   ]
  },
  {
   "cell_type": "code",
   "execution_count": 7,
   "id": "9454214c",
   "metadata": {},
   "outputs": [
    {
     "name": "stdout",
     "output_type": "stream",
     "text": [
      "(128, 128, 3)\n"
     ]
    }
   ],
   "source": [
    "np_img=np.array(img)\n",
    "print(np_img.shape)"
   ]
  },
  {
   "cell_type": "code",
   "execution_count": 8,
   "id": "7f98a022",
   "metadata": {},
   "outputs": [],
   "source": [
    "np_img=np_img/255\n",
    "# np_img"
   ]
  },
  {
   "cell_type": "code",
   "execution_count": 9,
   "id": "a597d00e",
   "metadata": {
    "scrolled": true
   },
   "outputs": [
    {
     "data": {
      "text/plain": [
       "array([[0.85882353, 0.70588235, 0.40392157],\n",
       "       [0.90196078, 0.7254902 , 0.45490196],\n",
       "       [0.88627451, 0.72941176, 0.43137255],\n",
       "       ...,\n",
       "       [0.25490196, 0.16862745, 0.15294118],\n",
       "       [0.22745098, 0.14509804, 0.14901961],\n",
       "       [0.20392157, 0.15294118, 0.13333333]])"
      ]
     },
     "execution_count": 9,
     "metadata": {},
     "output_type": "execute_result"
    }
   ],
   "source": [
    "X=np_img.reshape(img.size[0]*img.size[1],3)\n",
    "X"
   ]
  },
  {
   "cell_type": "code",
   "execution_count": 10,
   "id": "775c981e",
   "metadata": {},
   "outputs": [
    {
     "name": "stdout",
     "output_type": "stream",
     "text": [
      "(16, 3)\n"
     ]
    }
   ],
   "source": [
    "k=16\n",
    "max_iters=10\n",
    "initial_centroids=kmeansinit(X,k)\n",
    "print(initial_centroids.shape)"
   ]
  },
  {
   "cell_type": "code",
   "execution_count": 11,
   "id": "92051235",
   "metadata": {
    "scrolled": true
   },
   "outputs": [
    {
     "name": "stdout",
     "output_type": "stream",
     "text": [
      "[[0.66766659 0.66766659 0.66766659]\n",
      " [       nan        nan        nan]\n",
      " [0.06167355 0.06167355 0.06167355]\n",
      " [0.42836461 0.42836461 0.42836461]\n",
      " [0.10587311 0.10587311 0.10587311]\n",
      " [0.67497856 0.67497856 0.67497856]\n",
      " [0.69634274 0.69634274 0.69634274]\n",
      " [0.55174358 0.55174358 0.55174358]\n",
      " [0.69844081 0.69844081 0.69844081]\n",
      " [0.50547655 0.50547655 0.50547655]\n",
      " [0.60542938 0.60542938 0.60542938]\n",
      " [0.24586526 0.24586526 0.24586526]\n",
      " [0.86467851 0.86467851 0.86467851]\n",
      " [0.15944763 0.15944763 0.15944763]\n",
      " [0.38573451 0.38573451 0.38573451]\n",
      " [0.07707222 0.07707222 0.07707222]]\n"
     ]
    },
    {
     "name": "stderr",
     "output_type": "stream",
     "text": [
      "/media/anandhakris/Local Disk/Code/python/ImageProcessing/env/lib/python3.8/site-packages/numpy/core/fromnumeric.py:3440: RuntimeWarning: Mean of empty slice.\n",
      "  return _methods._mean(a, axis=axis, dtype=dtype,\n",
      "/media/anandhakris/Local Disk/Code/python/ImageProcessing/env/lib/python3.8/site-packages/numpy/core/_methods.py:189: RuntimeWarning: invalid value encountered in double_scalars\n",
      "  ret = ret.dtype.type(ret / rcount)\n"
     ]
    }
   ],
   "source": [
    "centroids,idx=runkmeans(X,initial_centroids,max_iters)\n",
    "# print(idx,centroids)\n",
    "# X_recovered=centroids[idx]\n",
    "# X_recovered=X_recovered.reshape(img.size[0],img.size[1],3)"
   ]
  },
  {
   "cell_type": "code",
   "execution_count": 12,
   "id": "b34baabb",
   "metadata": {},
   "outputs": [],
   "source": [
    "# plt.imshow(X_recovered,interpolation='nearest')\n",
    "# plt.show()"
   ]
  }
 ],
 "metadata": {
  "kernelspec": {
   "display_name": "Python 3.8.10 64-bit",
   "language": "python",
   "name": "python3810jvsc74a57bd0916dbcbb3f70747c44a77c7bcd40155683ae19c65e1c03b4aa3499c5328201f1"
  },
  "language_info": {
   "codemirror_mode": {
    "name": "ipython",
    "version": 3
   },
   "file_extension": ".py",
   "mimetype": "text/x-python",
   "name": "python",
   "nbconvert_exporter": "python",
   "pygments_lexer": "ipython3",
   "version": "3.8.10"
  }
 },
 "nbformat": 4,
 "nbformat_minor": 5
}
